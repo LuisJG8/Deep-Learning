{
 "cells": [
  {
   "cell_type": "code",
   "execution_count": 1,
   "id": "a15a343a",
   "metadata": {
    "execution": {
     "iopub.execute_input": "2023-12-07T19:22:10.641773Z",
     "iopub.status.busy": "2023-12-07T19:22:10.641104Z",
     "iopub.status.idle": "2023-12-07T19:22:11.765706Z",
     "shell.execute_reply": "2023-12-07T19:22:11.765405Z"
    }
   },
   "outputs": [],
   "source": [
    "import numpy as np\n",
    "import pandas as pd\n",
    "import matplotlib.pyplot as plt\n",
    "import seaborn as sns\n",
    "from sklearn import metrics\n",
    "\n",
    "from sklearn.neural_network import MLPClassifier"
   ]
  },
  {
   "cell_type": "code",
   "execution_count": 2,
   "id": "84333c12",
   "metadata": {
    "execution": {
     "iopub.execute_input": "2023-12-07T19:22:11.767444Z",
     "iopub.status.busy": "2023-12-07T19:22:11.767293Z",
     "iopub.status.idle": "2023-12-07T19:22:11.961885Z",
     "shell.execute_reply": "2023-12-07T19:22:11.961597Z"
    }
   },
   "outputs": [],
   "source": [
    "train = pd.read_csv('fashion-mnist_train.csv').sample(2000, random_state=123)"
   ]
  },
  {
   "cell_type": "code",
   "execution_count": 3,
   "id": "41b929f6",
   "metadata": {
    "execution": {
     "iopub.execute_input": "2023-12-07T19:22:11.963438Z",
     "iopub.status.busy": "2023-12-07T19:22:11.963357Z",
     "iopub.status.idle": "2023-12-07T19:22:11.965408Z",
     "shell.execute_reply": "2023-12-07T19:22:11.965181Z"
    }
   },
   "outputs": [
    {
     "name": "stdout",
     "output_type": "stream",
     "text": [
      "Training size 2000\n"
     ]
    }
   ],
   "source": [
    "print('Training size', len(train))"
   ]
  },
  {
   "cell_type": "code",
   "execution_count": 4,
   "id": "d253cfa5",
   "metadata": {
    "execution": {
     "iopub.execute_input": "2023-12-07T19:22:11.966680Z",
     "iopub.status.busy": "2023-12-07T19:22:11.966607Z",
     "iopub.status.idle": "2023-12-07T19:22:11.969929Z",
     "shell.execute_reply": "2023-12-07T19:22:11.969642Z"
    }
   },
   "outputs": [],
   "source": [
    "Xtrain = train\n",
    "Xtrain = Xtrain.drop(['label'], axis=1)\n",
    "ytrain = train['label']"
   ]
  },
  {
   "cell_type": "code",
   "execution_count": 5,
   "id": "31c987c1",
   "metadata": {
    "execution": {
     "iopub.execute_input": "2023-12-07T19:22:11.971275Z",
     "iopub.status.busy": "2023-12-07T19:22:11.971198Z",
     "iopub.status.idle": "2023-12-07T19:22:14.819889Z",
     "shell.execute_reply": "2023-12-07T19:22:14.816573Z"
    }
   },
   "outputs": [
    {
     "name": "stdout",
     "output_type": "stream",
     "text": [
      "Mini-batch training accuracy: 0.1065\n",
      "CPU times: user 7.83 s, sys: 371 ms, total: 8.2 s\n",
      "Wall time: 11.9 s\n"
     ]
    }
   ],
   "source": [
    "%%time\n",
    "\n",
    "# Mini-batch gradient descent\n",
    "mlpModel1 = MLPClassifier(solver='sgd', batch_size=20)\n",
    "mlpModel1.fit(Xtrain, ytrain)\n",
    "\n",
    "print('Mini-batch training accuracy:', mlpModel1.score(Xtrain, ytrain))"
   ]
  },
  {
   "cell_type": "code",
   "execution_count": 6,
   "id": "3bbd89dd",
   "metadata": {
    "execution": {
     "iopub.execute_input": "2023-12-07T19:22:14.825969Z",
     "iopub.status.busy": "2023-12-07T19:22:14.825520Z",
     "iopub.status.idle": "2023-12-07T19:22:19.058924Z",
     "shell.execute_reply": "2023-12-07T19:22:19.057537Z"
    }
   },
   "outputs": [
    {
     "name": "stdout",
     "output_type": "stream",
     "text": [
      "Adam training accuracy: 0.973\n",
      "CPU times: user 7.92 s, sys: 501 ms, total: 8.42 s\n",
      "Wall time: 10.8 s\n"
     ]
    }
   ],
   "source": [
    "%%time\n",
    "\n",
    "# Adaptive moments gradient descent\n",
    "mlpModel2 = MLPClassifier(solver='adam')\n",
    "mlpModel2.fit(Xtrain, ytrain)\n",
    "\n",
    "print('Adam training accuracy:', mlpModel2.score(Xtrain, ytrain))"
   ]
  },
  {
   "cell_type": "code",
   "execution_count": null,
   "id": "097f8440",
   "metadata": {
    "execution": {
     "iopub.execute_input": "2023-12-07T19:22:19.067477Z",
     "iopub.status.busy": "2023-12-07T19:22:19.067118Z",
     "iopub.status.idle": "2023-12-07T19:22:51.626317Z",
     "shell.execute_reply": "2023-12-07T19:22:51.625388Z"
    }
   },
   "outputs": [],
   "source": [
    "%%time\n",
    "\n",
    "# Stochastic gradient descent\n",
    "mlpModel3 = MLPClassifier(solver='sgd', batch_size=1)\n",
    "mlpModel3.fit(Xtrain, ytrain)\n",
    "\n",
    "print('SGD training accuracy:', mlpModel3.score(Xtrain, ytrain))"
   ]
  }
 ],
 "metadata": {
  "kernelspec": {
   "display_name": "Python 3 - python3",
   "language": "python3",
   "name": "python3"
  },
  "language_info": {
   "codemirror_mode": {
    "name": "ipython",
    "version": 3
   },
   "file_extension": ".py",
   "mimetype": "text/x-python",
   "name": "python",
   "nbconvert_exporter": "python",
   "pygments_lexer": "ipython3",
   "version": "3.10.9"
  }
 },
 "nbformat": 4,
 "nbformat_minor": 5
}
