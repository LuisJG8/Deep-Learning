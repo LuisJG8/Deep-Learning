{
 "cells": [
  {
   "cell_type": "code",
   "execution_count": 1,
   "metadata": {
    "execution": {
     "iopub.execute_input": "2023-12-07T19:23:01.020726Z",
     "iopub.status.busy": "2023-12-07T19:23:01.020256Z",
     "iopub.status.idle": "2023-12-07T19:23:01.405791Z",
     "shell.execute_reply": "2023-12-07T19:23:01.405057Z"
    },
    "id": "9PwL-dEOt0Bo"
   },
   "outputs": [],
   "source": [
    "import numpy as np\n",
    "import pandas as pd\n",
    "import os\n",
    "\n",
    "os.environ['KERAS_BACKEND'] = 'tensorflow'"
   ]
  },
  {
   "cell_type": "code",
   "execution_count": 2,
   "metadata": {
    "execution": {
     "iopub.execute_input": "2023-12-07T19:23:01.408256Z",
     "iopub.status.busy": "2023-12-07T19:23:01.408046Z",
     "iopub.status.idle": "2023-12-07T19:23:02.896736Z",
     "shell.execute_reply": "2023-12-07T19:23:02.896386Z"
    },
    "id": "4HwvuxKouJ6s"
   },
   "outputs": [
    {
     "name": "stderr",
     "output_type": "stream",
     "text": [
      "2024-01-04 16:17:48.994814: I tensorflow/core/platform/cpu_feature_guard.cc:193] This TensorFlow binary is optimized with oneAPI Deep Neural Network Library (oneDNN) to use the following CPU instructions in performance-critical operations:  SSE3 SSE4.1 SSE4.2 AVX AVX2 FMA\n",
      "To enable them in other operations, rebuild TensorFlow with the appropriate compiler flags.\n"
     ]
    }
   ],
   "source": [
    "# The backend must be set before importing keras, not after\n",
    "import keras as keras\n",
    "import keras.datasets.fashion_mnist"
   ]
  },
  {
   "cell_type": "code",
   "execution_count": 3,
   "metadata": {
    "execution": {
     "iopub.execute_input": "2023-12-07T19:23:02.898483Z",
     "iopub.status.busy": "2023-12-07T19:23:02.898316Z",
     "iopub.status.idle": "2023-12-07T19:23:03.194873Z",
     "shell.execute_reply": "2023-12-07T19:23:03.194533Z"
    },
    "id": "1kuiNuZbudu6"
   },
   "outputs": [
    {
     "name": "stdout",
     "output_type": "stream",
     "text": [
      "Downloading data from https://storage.googleapis.com/tensorflow/tf-keras-datasets/train-labels-idx1-ubyte.gz\n",
      "29515/29515 [==============================] - 0s 0us/step\n",
      "Downloading data from https://storage.googleapis.com/tensorflow/tf-keras-datasets/train-images-idx3-ubyte.gz\n",
      "26421880/26421880 [==============================] - 0s 0us/step\n",
      "Downloading data from https://storage.googleapis.com/tensorflow/tf-keras-datasets/t10k-labels-idx1-ubyte.gz\n",
      "5148/5148 [==============================] - 0s 0us/step\n",
      "Downloading data from https://storage.googleapis.com/tensorflow/tf-keras-datasets/t10k-images-idx3-ubyte.gz\n",
      "4422102/4422102 [==============================] - 0s 0us/step\n"
     ]
    }
   ],
   "source": [
    "# Load built-in Fashion MNIST\n",
    "(Xtrain, ytrain), (Xtest, ytest) = keras.datasets.fashion_mnist.load_data()\n",
    "\n",
    "# Scale images to the [0, 1] range and make sure all have same type\n",
    "Xtrain = Xtrain.reshape(60000, 784).astype('float32') / 255\n",
    "Xtest = Xtest.reshape(10000, 784).astype('float32') / 255\n",
    "ytrain = ytrain.astype('float32')\n",
    "ytest = ytest.astype('float32')"
   ]
  },
  {
   "cell_type": "code",
   "execution_count": 4,
   "metadata": {
    "execution": {
     "iopub.execute_input": "2023-12-07T19:23:03.196672Z",
     "iopub.status.busy": "2023-12-07T19:23:03.196556Z",
     "iopub.status.idle": "2023-12-07T19:23:03.222305Z",
     "shell.execute_reply": "2023-12-07T19:23:03.222030Z"
    },
    "id": "l9jv8qq3xycr"
   },
   "outputs": [
    {
     "name": "stderr",
     "output_type": "stream",
     "text": [
      "2024-01-04 16:17:53.533148: I tensorflow/core/platform/cpu_feature_guard.cc:193] This TensorFlow binary is optimized with oneAPI Deep Neural Network Library (oneDNN) to use the following CPU instructions in performance-critical operations:  SSE3 SSE4.1 SSE4.2 AVX AVX2 FMA\n",
      "To enable them in other operations, rebuild TensorFlow with the appropriate compiler flags.\n"
     ]
    }
   ],
   "source": [
    "# Define the model structure using keras.Sequential\n",
    "\n",
    "model = keras.Sequential(\n",
    "    [\n",
    "        # Input layer\n",
    "        keras.layers.Input(shape=(784, )),\n",
    "        # Hidden layer 1 = 256 nodes, linear activation\n",
    "        keras.layers.Dense(256, activation='linear'),\n",
    "        # Hidden layer 2: 128 nodes, linear activation\n",
    "        keras.layers.Dense(128, activation='linear'),\n",
    "        # Output layer: 10 nodes, one per class\n",
    "        keras.layers.Dense(10, activation='softmax')\n",
    "    ]\n",
    ")"
   ]
  },
  {
   "cell_type": "code",
   "execution_count": 5,
   "metadata": {
    "colab": {
     "base_uri": "https://localhost:8080/",
     "height": 225
    },
    "execution": {
     "iopub.execute_input": "2023-12-07T19:23:03.223915Z",
     "iopub.status.busy": "2023-12-07T19:23:03.223836Z",
     "iopub.status.idle": "2023-12-07T19:23:03.230314Z",
     "shell.execute_reply": "2023-12-07T19:23:03.230075Z"
    },
    "id": "S1EUFLKK2IY9",
    "outputId": "6d80730d-4d20-4231-9901-39bebd1e077b"
   },
   "outputs": [
    {
     "name": "stdout",
     "output_type": "stream",
     "text": [
      "Model: \"sequential\"\n",
      "_________________________________________________________________\n",
      " Layer (type)                Output Shape              Param #   \n",
      "=================================================================\n",
      " dense (Dense)               (None, 256)               200960    \n",
      "                                                                 \n",
      " dense_1 (Dense)             (None, 128)               32896     \n",
      "                                                                 \n",
      " dense_2 (Dense)             (None, 10)                1290      \n",
      "                                                                 \n",
      "=================================================================\n",
      "Total params: 235,146\n",
      "Trainable params: 235,146\n",
      "Non-trainable params: 0\n",
      "_________________________________________________________________\n"
     ]
    }
   ],
   "source": [
    "model.summary()"
   ]
  },
  {
   "cell_type": "code",
   "execution_count": 6,
   "metadata": {
    "execution": {
     "iopub.execute_input": "2023-12-07T19:23:03.231790Z",
     "iopub.status.busy": "2023-12-07T19:23:03.231696Z",
     "iopub.status.idle": "2023-12-07T19:23:03.236632Z",
     "shell.execute_reply": "2023-12-07T19:23:03.236356Z"
    },
    "id": "Hcp0ZX2N0ICZ"
   },
   "outputs": [],
   "source": [
    "# Specify training choices (optimizer, loss function, metrics)\n",
    "model.compile(\n",
    "    optimizer='rmsprop',  # Optimizer\n",
    "    # Loss function to minimize\n",
    "    loss='SparseCategoricalCrossentropy',\n",
    "    # List of metrics to monitor\n",
    "    metrics=['accuracy'],\n",
    ")"
   ]
  },
  {
   "cell_type": "code",
   "execution_count": 7,
   "metadata": {
    "colab": {
     "base_uri": "https://localhost:8080/"
    },
    "execution": {
     "iopub.execute_input": "2023-12-07T19:23:03.238063Z",
     "iopub.status.busy": "2023-12-07T19:23:03.237949Z",
     "iopub.status.idle": "2023-12-07T19:23:14.042826Z",
     "shell.execute_reply": "2023-12-07T19:23:14.042533Z"
    },
    "id": "TbyKluz80WiO",
    "outputId": "0ca5a2a4-845b-4372-e549-2452f9ff12bb"
   },
   "outputs": [
    {
     "name": "stdout",
     "output_type": "stream",
     "text": [
      "Epoch 1/10\n",
      "938/938 [==============================] - 2s 2ms/step - loss: 0.6346 - accuracy: 0.7803\n",
      "Epoch 2/10\n",
      "938/938 [==============================] - 2s 2ms/step - loss: 0.5015 - accuracy: 0.8250\n",
      "Epoch 3/10\n",
      "938/938 [==============================] - 2s 2ms/step - loss: 0.4738 - accuracy: 0.8327\n",
      "Epoch 4/10\n",
      "938/938 [==============================] - 2s 2ms/step - loss: 0.4544 - accuracy: 0.8404\n",
      "Epoch 5/10\n",
      "938/938 [==============================] - 2s 2ms/step - loss: 0.4445 - accuracy: 0.8448\n",
      "Epoch 6/10\n",
      "938/938 [==============================] - 2s 2ms/step - loss: 0.4372 - accuracy: 0.8472\n",
      "Epoch 7/10\n",
      "938/938 [==============================] - 2s 2ms/step - loss: 0.4293 - accuracy: 0.8480\n",
      "Epoch 8/10\n",
      "938/938 [==============================] - 2s 2ms/step - loss: 0.4263 - accuracy: 0.8511\n",
      "Epoch 9/10\n",
      "938/938 [==============================] - 2s 2ms/step - loss: 0.4216 - accuracy: 0.8542\n",
      "Epoch 10/10\n",
      "938/938 [==============================] - 2s 2ms/step - loss: 0.4201 - accuracy: 0.8534\n"
     ]
    },
    {
     "data": {
      "text/plain": [
       "<keras.callbacks.History at 0x7f29015e2590>"
      ]
     },
     "execution_count": 7,
     "metadata": {},
     "output_type": "execute_result"
    }
   ],
   "source": [
    "# Train the model\n",
    "model.fit(Xtrain, ytrain, batch_size=64, epochs=10)"
   ]
  }
 ],
 "metadata": {
  "colab": {
   "provenance": []
  },
  "kernelspec": {
   "display_name": "Python 3 - python3",
   "language": "python3",
   "name": "python3"
  },
  "language_info": {
   "codemirror_mode": {
    "name": "ipython",
    "version": 3
   },
   "file_extension": ".py",
   "mimetype": "text/x-python",
   "name": "python",
   "nbconvert_exporter": "python",
   "pygments_lexer": "ipython3",
   "version": "3.10.9"
  }
 },
 "nbformat": 4,
 "nbformat_minor": 1
}
