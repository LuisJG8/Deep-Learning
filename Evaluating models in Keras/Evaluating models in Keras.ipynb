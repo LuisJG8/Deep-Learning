{
 "cells": [
  {
   "cell_type": "code",
   "execution_count": 1,
   "metadata": {
    "execution": {
     "iopub.execute_input": "2023-12-07T19:23:15.351839Z",
     "iopub.status.busy": "2023-12-07T19:23:15.351294Z",
     "iopub.status.idle": "2023-12-07T19:23:15.716936Z",
     "shell.execute_reply": "2023-12-07T19:23:15.716624Z"
    },
    "id": "9PwL-dEOt0Bo"
   },
   "outputs": [],
   "source": [
    "import numpy as np\n",
    "import pandas as pd\n",
    "import os\n",
    "\n",
    "os.environ['KERAS_BACKEND'] = 'tensorflow'"
   ]
  },
  {
   "cell_type": "code",
   "execution_count": 2,
   "metadata": {
    "colab": {
     "base_uri": "https://localhost:8080/"
    },
    "execution": {
     "iopub.execute_input": "2023-12-07T19:23:15.718778Z",
     "iopub.status.busy": "2023-12-07T19:23:15.718635Z",
     "iopub.status.idle": "2023-12-07T19:23:17.228842Z",
     "shell.execute_reply": "2023-12-07T19:23:17.218965Z"
    },
    "id": "4HwvuxKouJ6s",
    "outputId": "88033ed0-18bb-43dd-d113-7b61e6c997f6"
   },
   "outputs": [
    {
     "name": "stderr",
     "output_type": "stream",
     "text": [
      "2024-01-04 16:22:01.849094: I tensorflow/core/platform/cpu_feature_guard.cc:193] This TensorFlow binary is optimized with oneAPI Deep Neural Network Library (oneDNN) to use the following CPU instructions in performance-critical operations:  SSE3 SSE4.1 SSE4.2 AVX AVX2 FMA\n",
      "To enable them in other operations, rebuild TensorFlow with the appropriate compiler flags.\n"
     ]
    }
   ],
   "source": [
    "# The backend must be set before importing keras, not after\n",
    "import keras as keras\n",
    "import keras.datasets.fashion_mnist"
   ]
  },
  {
   "cell_type": "code",
   "execution_count": 3,
   "metadata": {
    "colab": {
     "base_uri": "https://localhost:8080/"
    },
    "execution": {
     "iopub.execute_input": "2023-12-07T19:23:17.240870Z",
     "iopub.status.busy": "2023-12-07T19:23:17.240130Z",
     "iopub.status.idle": "2023-12-07T19:23:17.544631Z",
     "shell.execute_reply": "2023-12-07T19:23:17.544332Z"
    },
    "id": "1kuiNuZbudu6",
    "outputId": "8a788ddd-ee0b-49ca-949c-744dbef52889"
   },
   "outputs": [
    {
     "name": "stdout",
     "output_type": "stream",
     "text": [
      "Downloading data from https://storage.googleapis.com/tensorflow/tf-keras-datasets/train-labels-idx1-ubyte.gz\n",
      "29515/29515 [==============================] - 0s 0us/step\n",
      "Downloading data from https://storage.googleapis.com/tensorflow/tf-keras-datasets/train-images-idx3-ubyte.gz\n",
      "26421880/26421880 [==============================] - 0s 0us/step\n",
      "Downloading data from https://storage.googleapis.com/tensorflow/tf-keras-datasets/t10k-labels-idx1-ubyte.gz\n",
      "5148/5148 [==============================] - 0s 0us/step\n",
      "Downloading data from https://storage.googleapis.com/tensorflow/tf-keras-datasets/t10k-images-idx3-ubyte.gz\n",
      "4422102/4422102 [==============================] - 0s 0us/step\n"
     ]
    }
   ],
   "source": [
    "# Load built-in Fashion MNIST\n",
    "(Xtrain, ytrain), (Xtest, ytest) = keras.datasets.fashion_mnist.load_data()\n",
    "\n",
    "# Scale images to the [0, 1] range and make sure all have same type\n",
    "Xtrain = Xtrain.reshape(60000, 784).astype('float32') / 255\n",
    "Xtest = Xtest.reshape(10000, 784).astype('float32') / 255\n",
    "ytrain = ytrain.astype('float32')\n",
    "ytest = ytest.astype('float32')"
   ]
  },
  {
   "cell_type": "code",
   "execution_count": 4,
   "metadata": {
    "execution": {
     "iopub.execute_input": "2023-12-07T19:23:17.546368Z",
     "iopub.status.busy": "2023-12-07T19:23:17.546284Z",
     "iopub.status.idle": "2023-12-07T19:23:17.572234Z",
     "shell.execute_reply": "2023-12-07T19:23:17.571934Z"
    },
    "id": "l9jv8qq3xycr"
   },
   "outputs": [
    {
     "name": "stderr",
     "output_type": "stream",
     "text": [
      "2024-01-04 16:22:04.843542: I tensorflow/core/platform/cpu_feature_guard.cc:193] This TensorFlow binary is optimized with oneAPI Deep Neural Network Library (oneDNN) to use the following CPU instructions in performance-critical operations:  SSE3 SSE4.1 SSE4.2 AVX AVX2 FMA\n",
      "To enable them in other operations, rebuild TensorFlow with the appropriate compiler flags.\n"
     ]
    }
   ],
   "source": [
    "# Define the model structure using keras.Sequential\n",
    "\n",
    "model = keras.Sequential(\n",
    "    [\n",
    "        # Input layer\n",
    "        keras.layers.Input(shape=(784, )),\n",
    "        # Hidden layer 1 = 256 nodes, linear activation\n",
    "        keras.layers.Dense(256, activation='linear'),\n",
    "        # Hidden layer 2: 128 nodes, linear activation\n",
    "        keras.layers.Dense(128, activation='linear'),\n",
    "        # Output layer: 10 nodes, one per class\n",
    "        keras.layers.Dense(10, activation='softmax'),\n",
    "    ]\n",
    ")"
   ]
  },
  {
   "cell_type": "code",
   "execution_count": 5,
   "metadata": {
    "colab": {
     "base_uri": "https://localhost:8080/",
     "height": 225
    },
    "execution": {
     "iopub.execute_input": "2023-12-07T19:23:17.573826Z",
     "iopub.status.busy": "2023-12-07T19:23:17.573746Z",
     "iopub.status.idle": "2023-12-07T19:23:17.580307Z",
     "shell.execute_reply": "2023-12-07T19:23:17.580083Z"
    },
    "id": "S1EUFLKK2IY9",
    "outputId": "4287039a-a796-4673-ae9a-ff45d20b418e"
   },
   "outputs": [
    {
     "name": "stdout",
     "output_type": "stream",
     "text": [
      "Model: \"sequential\"\n",
      "_________________________________________________________________\n",
      " Layer (type)                Output Shape              Param #   \n",
      "=================================================================\n",
      " dense (Dense)               (None, 256)               200960    \n",
      "                                                                 \n",
      " dense_1 (Dense)             (None, 128)               32896     \n",
      "                                                                 \n",
      " dense_2 (Dense)             (None, 10)                1290      \n",
      "                                                                 \n",
      "=================================================================\n",
      "Total params: 235,146\n",
      "Trainable params: 235,146\n",
      "Non-trainable params: 0\n",
      "_________________________________________________________________\n"
     ]
    }
   ],
   "source": [
    "model.summary()"
   ]
  },
  {
   "cell_type": "code",
   "execution_count": 6,
   "metadata": {
    "execution": {
     "iopub.execute_input": "2023-12-07T19:23:17.581788Z",
     "iopub.status.busy": "2023-12-07T19:23:17.581657Z",
     "iopub.status.idle": "2023-12-07T19:23:17.586201Z",
     "shell.execute_reply": "2023-12-07T19:23:17.585959Z"
    },
    "id": "Hcp0ZX2N0ICZ"
   },
   "outputs": [],
   "source": [
    "# Specify training choices (optimizer, loss function, metrics)\n",
    "model.compile(\n",
    "    optimizer='rmsprop',  # Optimizer\n",
    "    # Loss function to minimize\n",
    "    loss='SparseCategoricalCrossentropy',\n",
    "    # List of metrics to monitor\n",
    "    metrics=['accuracy'],\n",
    ")"
   ]
  },
  {
   "cell_type": "code",
   "execution_count": 7,
   "metadata": {
    "colab": {
     "base_uri": "https://localhost:8080/"
    },
    "execution": {
     "iopub.execute_input": "2023-12-07T19:23:17.587673Z",
     "iopub.status.busy": "2023-12-07T19:23:17.587593Z",
     "iopub.status.idle": "2023-12-07T19:23:23.275776Z",
     "shell.execute_reply": "2023-12-07T19:23:23.275499Z"
    },
    "id": "TbyKluz80WiO",
    "outputId": "017ce2a2-6463-4bee-9cc6-4689c875160f"
   },
   "outputs": [
    {
     "name": "stdout",
     "output_type": "stream",
     "text": [
      "Epoch 1/5\n",
      "844/844 [==============================] - 2s 2ms/step - loss: 0.6496 - accuracy: 0.7799 - val_loss: 0.5267 - val_accuracy: 0.8045\n",
      "Epoch 2/5\n",
      "844/844 [==============================] - 2s 2ms/step - loss: 0.5073 - accuracy: 0.8239 - val_loss: 0.5929 - val_accuracy: 0.8040\n",
      "Epoch 3/5\n",
      "844/844 [==============================] - 2s 2ms/step - loss: 0.4761 - accuracy: 0.8345 - val_loss: 0.5919 - val_accuracy: 0.7937\n",
      "Epoch 4/5\n",
      "844/844 [==============================] - 2s 2ms/step - loss: 0.4599 - accuracy: 0.8400 - val_loss: 0.4413 - val_accuracy: 0.8448\n",
      "Epoch 5/5\n",
      "844/844 [==============================] - 2s 2ms/step - loss: 0.4474 - accuracy: 0.8448 - val_loss: 0.4628 - val_accuracy: 0.8400\n"
     ]
    }
   ],
   "source": [
    "# Train the model with validation\n",
    "training = model.fit(Xtrain, ytrain, batch_size=64, epochs=5, validation_split=0.1)"
   ]
  },
  {
   "cell_type": "code",
   "execution_count": 8,
   "metadata": {
    "colab": {
     "base_uri": "https://localhost:8080/"
    },
    "execution": {
     "iopub.execute_input": "2023-12-07T19:23:23.277288Z",
     "iopub.status.busy": "2023-12-07T19:23:23.277185Z",
     "iopub.status.idle": "2023-12-07T19:23:23.279348Z",
     "shell.execute_reply": "2023-12-07T19:23:23.279109Z"
    },
    "id": "hyaZA82b82RT",
    "outputId": "7f73886d-86a2-49ff-e321-177bdf9d7506"
   },
   "outputs": [
    {
     "data": {
      "text/plain": [
       "{'loss': [0.6495694518089294,\n",
       "  0.5072634220123291,\n",
       "  0.47614336013793945,\n",
       "  0.45989173650741577,\n",
       "  0.4474078416824341],\n",
       " 'accuracy': [0.7799074053764343,\n",
       "  0.8239259123802185,\n",
       "  0.8344814777374268,\n",
       "  0.8399999737739563,\n",
       "  0.8447777628898621],\n",
       " 'val_loss': [0.5267066359519958,\n",
       "  0.5929080247879028,\n",
       "  0.591934859752655,\n",
       "  0.44130274653434753,\n",
       "  0.4627962112426758],\n",
       " 'val_accuracy': [0.8044999837875366,\n",
       "  0.8040000200271606,\n",
       "  0.793666660785675,\n",
       "  0.8448333144187927,\n",
       "  0.8399999737739563]}"
      ]
     },
     "execution_count": 8,
     "metadata": {},
     "output_type": "execute_result"
    }
   ],
   "source": [
    "# View the training history\n",
    "training.history"
   ]
  },
  {
   "cell_type": "code",
   "execution_count": 9,
   "metadata": {
    "colab": {
     "base_uri": "https://localhost:8080/"
    },
    "execution": {
     "iopub.execute_input": "2023-12-07T19:23:23.280788Z",
     "iopub.status.busy": "2023-12-07T19:23:23.280695Z",
     "iopub.status.idle": "2023-12-07T19:23:23.440979Z",
     "shell.execute_reply": "2023-12-07T19:23:23.440662Z"
    },
    "id": "dmojrYjc85oq",
    "outputId": "152be14e-ddc7-495f-a529-4299c9f27670"
   },
   "outputs": [
    {
     "name": "stdout",
     "output_type": "stream",
     "text": [
      "157/157 [==============================] - 0s 1ms/step - loss: 0.4936 - accuracy: 0.8212\n",
      "Test loss, accuracy [0.49359461665153503, 0.8212000131607056]\n"
     ]
    }
   ],
   "source": [
    "# Evaluate the model on the testing data\n",
    "results = model.evaluate(Xtest, ytest, batch_size=64)\n",
    "print('Test loss, accuracy', results)"
   ]
  },
  {
   "cell_type": "code",
   "execution_count": 10,
   "metadata": {
    "colab": {
     "base_uri": "https://localhost:8080/"
    },
    "execution": {
     "iopub.execute_input": "2023-12-07T19:23:23.442546Z",
     "iopub.status.busy": "2023-12-07T19:23:23.442456Z",
     "iopub.status.idle": "2023-12-07T19:23:23.511209Z",
     "shell.execute_reply": "2023-12-07T19:23:23.510923Z"
    },
    "id": "WbgbKJ2Y-THz",
    "outputId": "55765ca9-c94b-486b-bfb5-7ef98a19dac8"
   },
   "outputs": [
    {
     "name": "stdout",
     "output_type": "stream",
     "text": [
      "1/1 [==============================] - 0s 63ms/step\n",
      "Predictions: [[0.    0.    0.    0.    0.    0.039 0.    0.048 0.008 0.905]\n",
      " [0.001 0.    0.824 0.    0.009 0.    0.166 0.    0.    0.   ]\n",
      " [0.    1.    0.    0.    0.    0.    0.    0.    0.    0.   ]]\n",
      "Actual values: [9. 2. 1.]\n"
     ]
    }
   ],
   "source": [
    "# Generate predictions (probabilities -- the output of the last layer)\n",
    "predictions = model.predict(Xtest[:3])\n",
    "print('Predictions:', predictions.round(3))\n",
    "print('Actual values:', ytest[:3])"
   ]
  }
 ],
 "metadata": {
  "colab": {
   "provenance": []
  },
  "kernelspec": {
   "display_name": "Python 3 - python3",
   "language": "python3",
   "name": "python3"
  },
  "language_info": {
   "codemirror_mode": {
    "name": "ipython",
    "version": 3
   },
   "file_extension": ".py",
   "mimetype": "text/x-python",
   "name": "python",
   "nbconvert_exporter": "python",
   "pygments_lexer": "ipython3",
   "version": "3.10.9"
  }
 },
 "nbformat": 4,
 "nbformat_minor": 1
}
