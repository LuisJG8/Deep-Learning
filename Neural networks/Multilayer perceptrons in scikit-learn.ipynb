{
 "cells": [
  {
   "cell_type": "code",
   "execution_count": 1,
   "id": "a15a343a",
   "metadata": {
    "execution": {
     "iopub.execute_input": "2023-12-07T19:20:36.384259Z",
     "iopub.status.busy": "2023-12-07T19:20:36.383866Z",
     "iopub.status.idle": "2023-12-07T19:20:37.261095Z",
     "shell.execute_reply": "2023-12-07T19:20:37.260773Z"
    }
   },
   "outputs": [],
   "source": [
    "import numpy as np\n",
    "import pandas as pd\n",
    "import matplotlib.pyplot as plt\n",
    "import seaborn as sns\n",
    "from sklearn import metrics\n",
    "\n",
    "from sklearn.neural_network import MLPClassifier"
   ]
  },
  {
   "cell_type": "code",
   "execution_count": 2,
   "id": "84333c12",
   "metadata": {
    "execution": {
     "iopub.execute_input": "2023-12-07T19:20:37.262829Z",
     "iopub.status.busy": "2023-12-07T19:20:37.262649Z",
     "iopub.status.idle": "2023-12-07T19:20:37.463628Z",
     "shell.execute_reply": "2023-12-07T19:20:37.463340Z"
    }
   },
   "outputs": [],
   "source": [
    "train = pd.read_csv('fashion-mnist_train.csv')\n",
    "test = pd.read_csv('fashion-mnist_test.csv')"
   ]
  },
  {
   "cell_type": "code",
   "execution_count": 3,
   "id": "41b929f6",
   "metadata": {
    "execution": {
     "iopub.execute_input": "2023-12-07T19:20:37.465331Z",
     "iopub.status.busy": "2023-12-07T19:20:37.465242Z",
     "iopub.status.idle": "2023-12-07T19:20:37.467233Z",
     "shell.execute_reply": "2023-12-07T19:20:37.467000Z"
    }
   },
   "outputs": [
    {
     "name": "stdout",
     "output_type": "stream",
     "text": [
      "Training size 6000\n",
      "Testing size 1000\n"
     ]
    }
   ],
   "source": [
    "print('Training size', len(train))\n",
    "print('Testing size', len(test))"
   ]
  },
  {
   "cell_type": "code",
   "execution_count": 4,
   "id": "c6f2e523",
   "metadata": {
    "execution": {
     "iopub.execute_input": "2023-12-07T19:20:37.468648Z",
     "iopub.status.busy": "2023-12-07T19:20:37.468555Z",
     "iopub.status.idle": "2023-12-07T19:20:37.474871Z",
     "shell.execute_reply": "2023-12-07T19:20:37.474598Z"
    }
   },
   "outputs": [
    {
     "data": {
      "text/html": [
       "<div>\n",
       "<style scoped>\n",
       "    .dataframe tbody tr th:only-of-type {\n",
       "        vertical-align: middle;\n",
       "    }\n",
       "\n",
       "    .dataframe tbody tr th {\n",
       "        vertical-align: top;\n",
       "    }\n",
       "\n",
       "    .dataframe thead th {\n",
       "        text-align: right;\n",
       "    }\n",
       "</style>\n",
       "<table border=\"1\" class=\"dataframe\">\n",
       "  <thead>\n",
       "    <tr style=\"text-align: right;\">\n",
       "      <th></th>\n",
       "      <th>label</th>\n",
       "      <th>pixel1</th>\n",
       "      <th>pixel2</th>\n",
       "      <th>pixel3</th>\n",
       "      <th>pixel4</th>\n",
       "      <th>pixel5</th>\n",
       "      <th>pixel6</th>\n",
       "      <th>pixel7</th>\n",
       "      <th>pixel8</th>\n",
       "      <th>pixel9</th>\n",
       "      <th>...</th>\n",
       "      <th>pixel775</th>\n",
       "      <th>pixel776</th>\n",
       "      <th>pixel777</th>\n",
       "      <th>pixel778</th>\n",
       "      <th>pixel779</th>\n",
       "      <th>pixel780</th>\n",
       "      <th>pixel781</th>\n",
       "      <th>pixel782</th>\n",
       "      <th>pixel783</th>\n",
       "      <th>pixel784</th>\n",
       "    </tr>\n",
       "  </thead>\n",
       "  <tbody>\n",
       "    <tr>\n",
       "      <th>0</th>\n",
       "      <td>2</td>\n",
       "      <td>0</td>\n",
       "      <td>0</td>\n",
       "      <td>0</td>\n",
       "      <td>0</td>\n",
       "      <td>0</td>\n",
       "      <td>0</td>\n",
       "      <td>0</td>\n",
       "      <td>0</td>\n",
       "      <td>0</td>\n",
       "      <td>...</td>\n",
       "      <td>0</td>\n",
       "      <td>0</td>\n",
       "      <td>0</td>\n",
       "      <td>0</td>\n",
       "      <td>0</td>\n",
       "      <td>0</td>\n",
       "      <td>0</td>\n",
       "      <td>0</td>\n",
       "      <td>0</td>\n",
       "      <td>0</td>\n",
       "    </tr>\n",
       "    <tr>\n",
       "      <th>1</th>\n",
       "      <td>9</td>\n",
       "      <td>0</td>\n",
       "      <td>0</td>\n",
       "      <td>0</td>\n",
       "      <td>0</td>\n",
       "      <td>0</td>\n",
       "      <td>0</td>\n",
       "      <td>0</td>\n",
       "      <td>0</td>\n",
       "      <td>0</td>\n",
       "      <td>...</td>\n",
       "      <td>0</td>\n",
       "      <td>0</td>\n",
       "      <td>0</td>\n",
       "      <td>0</td>\n",
       "      <td>0</td>\n",
       "      <td>0</td>\n",
       "      <td>0</td>\n",
       "      <td>0</td>\n",
       "      <td>0</td>\n",
       "      <td>0</td>\n",
       "    </tr>\n",
       "    <tr>\n",
       "      <th>2</th>\n",
       "      <td>6</td>\n",
       "      <td>0</td>\n",
       "      <td>0</td>\n",
       "      <td>0</td>\n",
       "      <td>0</td>\n",
       "      <td>0</td>\n",
       "      <td>0</td>\n",
       "      <td>0</td>\n",
       "      <td>5</td>\n",
       "      <td>0</td>\n",
       "      <td>...</td>\n",
       "      <td>0</td>\n",
       "      <td>0</td>\n",
       "      <td>0</td>\n",
       "      <td>30</td>\n",
       "      <td>43</td>\n",
       "      <td>0</td>\n",
       "      <td>0</td>\n",
       "      <td>0</td>\n",
       "      <td>0</td>\n",
       "      <td>0</td>\n",
       "    </tr>\n",
       "    <tr>\n",
       "      <th>3</th>\n",
       "      <td>0</td>\n",
       "      <td>0</td>\n",
       "      <td>0</td>\n",
       "      <td>0</td>\n",
       "      <td>1</td>\n",
       "      <td>2</td>\n",
       "      <td>0</td>\n",
       "      <td>0</td>\n",
       "      <td>0</td>\n",
       "      <td>0</td>\n",
       "      <td>...</td>\n",
       "      <td>3</td>\n",
       "      <td>0</td>\n",
       "      <td>0</td>\n",
       "      <td>0</td>\n",
       "      <td>0</td>\n",
       "      <td>1</td>\n",
       "      <td>0</td>\n",
       "      <td>0</td>\n",
       "      <td>0</td>\n",
       "      <td>0</td>\n",
       "    </tr>\n",
       "    <tr>\n",
       "      <th>4</th>\n",
       "      <td>3</td>\n",
       "      <td>0</td>\n",
       "      <td>0</td>\n",
       "      <td>0</td>\n",
       "      <td>0</td>\n",
       "      <td>0</td>\n",
       "      <td>0</td>\n",
       "      <td>0</td>\n",
       "      <td>0</td>\n",
       "      <td>0</td>\n",
       "      <td>...</td>\n",
       "      <td>0</td>\n",
       "      <td>0</td>\n",
       "      <td>0</td>\n",
       "      <td>0</td>\n",
       "      <td>0</td>\n",
       "      <td>0</td>\n",
       "      <td>0</td>\n",
       "      <td>0</td>\n",
       "      <td>0</td>\n",
       "      <td>0</td>\n",
       "    </tr>\n",
       "  </tbody>\n",
       "</table>\n",
       "<p>5 rows × 785 columns</p>\n",
       "</div>"
      ],
      "text/plain": [
       "   label  pixel1  pixel2  pixel3  pixel4  pixel5  pixel6  pixel7  pixel8  \\\n",
       "0      2       0       0       0       0       0       0       0       0   \n",
       "1      9       0       0       0       0       0       0       0       0   \n",
       "2      6       0       0       0       0       0       0       0       5   \n",
       "3      0       0       0       0       1       2       0       0       0   \n",
       "4      3       0       0       0       0       0       0       0       0   \n",
       "\n",
       "   pixel9  ...  pixel775  pixel776  pixel777  pixel778  pixel779  pixel780  \\\n",
       "0       0  ...         0         0         0         0         0         0   \n",
       "1       0  ...         0         0         0         0         0         0   \n",
       "2       0  ...         0         0         0        30        43         0   \n",
       "3       0  ...         3         0         0         0         0         1   \n",
       "4       0  ...         0         0         0         0         0         0   \n",
       "\n",
       "   pixel781  pixel782  pixel783  pixel784  \n",
       "0         0         0         0         0  \n",
       "1         0         0         0         0  \n",
       "2         0         0         0         0  \n",
       "3         0         0         0         0  \n",
       "4         0         0         0         0  \n",
       "\n",
       "[5 rows x 785 columns]"
      ]
     },
     "execution_count": 4,
     "metadata": {},
     "output_type": "execute_result"
    }
   ],
   "source": [
    "train.head()"
   ]
  },
  {
   "cell_type": "code",
   "execution_count": 5,
   "id": "a44ba68d",
   "metadata": {
    "execution": {
     "iopub.execute_input": "2023-12-07T19:20:37.476409Z",
     "iopub.status.busy": "2023-12-07T19:20:37.476324Z",
     "iopub.status.idle": "2023-12-07T19:20:37.478195Z",
     "shell.execute_reply": "2023-12-07T19:20:37.477950Z"
    }
   },
   "outputs": [],
   "source": [
    "class_labels = {0: 'T-shirt/top', 1: 'Trouser', 2: 'Pullover', \n",
    "           3: 'Dress', 4: 'Coat', 5: 'Sandal', 6: 'Shirt', \n",
    "           7: 'Sneaker', 8: 'Bag', 9: 'Ankle boot'}"
   ]
  },
  {
   "cell_type": "code",
   "execution_count": 6,
   "id": "1965d950",
   "metadata": {
    "execution": {
     "iopub.execute_input": "2023-12-07T19:20:37.479657Z",
     "iopub.status.busy": "2023-12-07T19:20:37.479548Z",
     "iopub.status.idle": "2023-12-07T19:20:37.786708Z",
     "shell.execute_reply": "2023-12-07T19:20:37.786421Z"
    }
   },
   "outputs": [
    {
     "name": "stderr",
     "output_type": "stream",
     "text": [
      "/tmp/nix-shell.eoeHva/ipykernel_514/705585911.py:5: MatplotlibDeprecationWarning: Auto-removal of overlapping axes is deprecated since 3.6 and will be removed two minor releases later; explicitly call ax.remove() as needed.\n",
      "  plt.subplot(2, 5, ind+1)\n"
     ]
    },
    {
     "data": {
      "image/png": "[encoded data removed]",
      "text/plain": [
       "<Figure size 1800x800 with 10 Axes>"
      ]
     },
     "metadata": {},
     "output_type": "display_data"
    }
   ],
   "source": [
    "# Plot the first 10 training images with class labels\n",
    "fig, ax = plt.subplots(figsize=(18, 8))\n",
    "\n",
    "for ind, row in train.iloc[:10, :].iterrows():\n",
    "    plt.subplot(2, 5, ind+1)\n",
    "    plt.title(class_labels[row[0]], fontsize=14)\n",
    "    img = row.to_numpy()[1:].reshape(28, 28)\n",
    "    fig.suptitle('Training images 0-9', fontsize=16)\n",
    "    plt.imshow(img, cmap='Greys')"
   ]
  },
  {
   "cell_type": "code",
   "execution_count": 7,
   "id": "d253cfa5",
   "metadata": {
    "execution": {
     "iopub.execute_input": "2023-12-07T19:20:37.788271Z",
     "iopub.status.busy": "2023-12-07T19:20:37.788182Z",
     "iopub.status.idle": "2023-12-07T19:20:37.795360Z",
     "shell.execute_reply": "2023-12-07T19:20:37.795068Z"
    }
   },
   "outputs": [],
   "source": [
    "Xtrain = train\n",
    "Xtrain = Xtrain.drop(['label'], axis=1)\n",
    "ytrain = train['label']"
   ]
  },
  {
   "cell_type": "code",
   "execution_count": 8,
   "id": "097f8440",
   "metadata": {
    "execution": {
     "iopub.execute_input": "2023-12-07T19:20:37.796833Z",
     "iopub.status.busy": "2023-12-07T19:20:37.796740Z",
     "iopub.status.idle": "2023-12-07T19:20:53.053335Z",
     "shell.execute_reply": "2023-12-07T19:20:53.052045Z"
    }
   },
   "outputs": [
    {
     "data": {
      "text/html": [
       "<style>#sk-container-id-1 {color: black;background-color: white;}#sk-container-id-1 pre{padding: 0;}#sk-container-id-1 div.sk-toggleable {background-color: white;}#sk-container-id-1 label.sk-toggleable__label {cursor: pointer;display: block;width: 100%;margin-bottom: 0;padding: 0.3em;box-sizing: border-box;text-align: center;}#sk-container-id-1 label.sk-toggleable__label-arrow:before {content: \"▸\";float: left;margin-right: 0.25em;color: #696969;}#sk-container-id-1 label.sk-toggleable__label-arrow:hover:before {color: black;}#sk-container-id-1 div.sk-estimator:hover label.sk-toggleable__label-arrow:before {color: black;}#sk-container-id-1 div.sk-toggleable__content {max-height: 0;max-width: 0;overflow: hidden;text-align: left;background-color: #f0f8ff;}#sk-container-id-1 div.sk-toggleable__content pre {margin: 0.2em;color: black;border-radius: 0.25em;background-color: #f0f8ff;}#sk-container-id-1 input.sk-toggleable__control:checked~div.sk-toggleable__content {max-height: 200px;max-width: 100%;overflow: auto;}#sk-container-id-1 input.sk-toggleable__control:checked~label.sk-toggleable__label-arrow:before {content: \"▾\";}#sk-container-id-1 div.sk-estimator input.sk-toggleable__control:checked~label.sk-toggleable__label {background-color: #d4ebff;}#sk-container-id-1 div.sk-label input.sk-toggleable__control:checked~label.sk-toggleable__label {background-color: #d4ebff;}#sk-container-id-1 input.sk-hidden--visually {border: 0;clip: rect(1px 1px 1px 1px);clip: rect(1px, 1px, 1px, 1px);height: 1px;margin: -1px;overflow: hidden;padding: 0;position: absolute;width: 1px;}#sk-container-id-1 div.sk-estimator {font-family: monospace;background-color: #f0f8ff;border: 1px dotted black;border-radius: 0.25em;box-sizing: border-box;margin-bottom: 0.5em;}#sk-container-id-1 div.sk-estimator:hover {background-color: #d4ebff;}#sk-container-id-1 div.sk-parallel-item::after {content: \"\";width: 100%;border-bottom: 1px solid gray;flex-grow: 1;}#sk-container-id-1 div.sk-label:hover label.sk-toggleable__label {background-color: #d4ebff;}#sk-container-id-1 div.sk-serial::before {content: \"\";position: absolute;border-left: 1px solid gray;box-sizing: border-box;top: 0;bottom: 0;left: 50%;z-index: 0;}#sk-container-id-1 div.sk-serial {display: flex;flex-direction: column;align-items: center;background-color: white;padding-right: 0.2em;padding-left: 0.2em;position: relative;}#sk-container-id-1 div.sk-item {position: relative;z-index: 1;}#sk-container-id-1 div.sk-parallel {display: flex;align-items: stretch;justify-content: center;background-color: white;position: relative;}#sk-container-id-1 div.sk-item::before, #sk-container-id-1 div.sk-parallel-item::before {content: \"\";position: absolute;border-left: 1px solid gray;box-sizing: border-box;top: 0;bottom: 0;left: 50%;z-index: -1;}#sk-container-id-1 div.sk-parallel-item {display: flex;flex-direction: column;z-index: 1;position: relative;background-color: white;}#sk-container-id-1 div.sk-parallel-item:first-child::after {align-self: flex-end;width: 50%;}#sk-container-id-1 div.sk-parallel-item:last-child::after {align-self: flex-start;width: 50%;}#sk-container-id-1 div.sk-parallel-item:only-child::after {width: 0;}#sk-container-id-1 div.sk-dashed-wrapped {border: 1px dashed gray;margin: 0 0.4em 0.5em 0.4em;box-sizing: border-box;padding-bottom: 0.4em;background-color: white;}#sk-container-id-1 div.sk-label label {font-family: monospace;font-weight: bold;display: inline-block;line-height: 1.2em;}#sk-container-id-1 div.sk-label-container {text-align: center;}#sk-container-id-1 div.sk-container {/* jupyter's `normalize.less` sets `[hidden] { display: none; }` but bootstrap.min.css set `[hidden] { display: none !important; }` so we also need the `!important` here to be able to override the default hidden behavior on the sphinx rendered scikit-learn.org. See: https://github.com/scikit-learn/scikit-learn/issues/21755 */display: inline-block !important;position: relative;}#sk-container-id-1 div.sk-text-repr-fallback {display: none;}</style><div id=\"sk-container-id-1\" class=\"sk-top-container\"><div class=\"sk-text-repr-fallback\"><pre>MLPClassifier(random_state=123)</pre><b>In a Jupyter environment, please rerun this cell to show the HTML representation or trust the notebook. <br />On GitHub, the HTML representation is unable to render, please try loading this page with nbviewer.org.</b></div><div class=\"sk-container\" hidden><div class=\"sk-item\"><div class=\"sk-estimator sk-toggleable\"><input class=\"sk-toggleable__control sk-hidden--visually\" id=\"sk-estimator-id-1\" type=\"checkbox\" checked><label for=\"sk-estimator-id-1\" class=\"sk-toggleable__label sk-toggleable__label-arrow\">MLPClassifier</label><div class=\"sk-toggleable__content\"><pre>MLPClassifier(random_state=123)</pre></div></div></div></div></div>"
      ],
      "text/plain": [
       "MLPClassifier(random_state=123)"
      ]
     },
     "execution_count": 8,
     "metadata": {},
     "output_type": "execute_result"
    }
   ],
   "source": [
    "mlpModel = MLPClassifier(random_state=123)\n",
    "mlpModel.fit(Xtrain, ytrain)"
   ]
  },
  {
   "cell_type": "code",
   "execution_count": 9,
   "id": "ac3cd352",
   "metadata": {
    "execution": {
     "iopub.execute_input": "2023-12-07T19:20:53.064721Z",
     "iopub.status.busy": "2023-12-07T19:20:53.064276Z",
     "iopub.status.idle": "2023-12-07T19:20:53.103593Z",
     "shell.execute_reply": "2023-12-07T19:20:53.101028Z"
    }
   },
   "outputs": [
    {
     "name": "stdout",
     "output_type": "stream",
     "text": [
      "Score: 0.9593333333333334\n"
     ]
    }
   ],
   "source": [
    "# Score on training data\n",
    "print('Score:', mlpModel.score(Xtrain, ytrain))"
   ]
  },
  {
   "cell_type": "code",
   "execution_count": 10,
   "id": "ae927f25",
   "metadata": {
    "execution": {
     "iopub.execute_input": "2023-12-07T19:20:53.107734Z",
     "iopub.status.busy": "2023-12-07T19:20:53.107486Z",
     "iopub.status.idle": "2023-12-07T19:20:53.115418Z",
     "shell.execute_reply": "2023-12-07T19:20:53.112887Z"
    }
   },
   "outputs": [
    {
     "name": "stdout",
     "output_type": "stream",
     "text": [
      "Number of total layers: 3\n",
      "Number of hidden layers: 1\n",
      "Number of outputs: 10\n"
     ]
    }
   ],
   "source": [
    "# Neural network structure\n",
    "print('Number of total layers:', mlpModel.n_layers_)\n",
    "print('Number of hidden layers:', mlpModel.n_layers_ - 2)\n",
    "print('Number of outputs:' , mlpModel.n_outputs_)"
   ]
  },
  {
   "cell_type": "code",
   "execution_count": 11,
   "id": "9814998c",
   "metadata": {
    "execution": {
     "iopub.execute_input": "2023-12-07T19:20:53.123240Z",
     "iopub.status.busy": "2023-12-07T19:20:53.122852Z",
     "iopub.status.idle": "2023-12-07T19:20:53.144043Z",
     "shell.execute_reply": "2023-12-07T19:20:53.143412Z"
    }
   },
   "outputs": [
    {
     "name": "stdout",
     "output_type": "stream",
     "text": [
      "Class predictions: [2 9 6 0 3]\n",
      "Class probabilities: [[8.47903450e-004 1.79158128e-021 8.94316044e-001 2.54294350e-010\n",
      "  3.81897979e-003 4.95336886e-019 1.01017073e-001 2.16429012e-078\n",
      "  6.01473724e-011 2.03623030e-071]\n",
      " [5.03224863e-075 2.55272127e-037 2.77489987e-102 5.08992290e-084\n",
      "  7.57581867e-069 2.12915864e-017 2.19953070e-070 1.52332168e-009\n",
      "  4.16929312e-071 9.99999998e-001]\n",
      " [1.48329143e-007 1.15165401e-023 1.65464144e-004 1.44327267e-010\n",
      "  1.54198497e-004 1.47327511e-026 9.99680189e-001 5.66438628e-089\n",
      "  1.37626202e-027 1.09013994e-067]\n",
      " [9.99999780e-001 8.06507571e-031 1.09703271e-010 5.78262689e-011\n",
      "  2.92403234e-021 6.12282951e-035 2.19864850e-007 6.47829043e-066\n",
      "  3.12270829e-043 1.73120946e-071]\n",
      " [4.08735930e-011 1.48465153e-025 1.69940924e-009 9.99999922e-001\n",
      "  2.56553472e-012 1.43353927e-036 7.62803054e-008 9.20207512e-070\n",
      "  1.26497103e-036 6.43412549e-062]]\n"
     ]
    }
   ],
   "source": [
    "# Predicted classes and probabilities\n",
    "print('Class predictions:', mlpModel.predict(Xtrain[0:5]))\n",
    "print('Class probabilities:', mlpModel.predict_proba(Xtrain[0:5]))"
   ]
  },
  {
   "cell_type": "code",
   "execution_count": 12,
   "id": "9a6a2fda",
   "metadata": {
    "execution": {
     "iopub.execute_input": "2023-12-07T19:20:53.149964Z",
     "iopub.status.busy": "2023-12-07T19:20:53.149633Z",
     "iopub.status.idle": "2023-12-07T19:20:53.175750Z",
     "shell.execute_reply": "2023-12-07T19:20:53.172989Z"
    }
   },
   "outputs": [
    {
     "data": {
      "text/plain": [
       "0.951"
      ]
     },
     "execution_count": 12,
     "metadata": {},
     "output_type": "execute_result"
    }
   ],
   "source": [
    "Xtest = test\n",
    "Xtest = Xtest.drop(['label'], axis=1)\n",
    "ytest = test['label']\n",
    "\n",
    "# Score on testing data\n",
    "mlpModel.score(Xtest, ytest)"
   ]
  },
  {
   "cell_type": "code",
   "execution_count": 13,
   "id": "f0a75ab4",
   "metadata": {
    "execution": {
     "iopub.execute_input": "2023-12-07T19:20:53.179628Z",
     "iopub.status.busy": "2023-12-07T19:20:53.179276Z",
     "iopub.status.idle": "2023-12-07T19:20:53.197440Z",
     "shell.execute_reply": "2023-12-07T19:20:53.194595Z"
    }
   },
   "outputs": [
    {
     "data": {
      "text/plain": [
       "[5, 37, 51, 70, 81, 89, 110, 125, 187, 208]"
      ]
     },
     "execution_count": 13,
     "metadata": {},
     "output_type": "execute_result"
    }
   ],
   "source": [
    "ypred = mlpModel.predict(Xtest)\n",
    "misclassified = [i for i in range(len(ytest)) if ypred[i] != ytest[i]]\n",
    "\n",
    "# View first 10 misclassified instances\n",
    "misclassified[0:10]"
   ]
  },
  {
   "cell_type": "code",
   "execution_count": 14,
   "id": "56e86c49",
   "metadata": {
    "execution": {
     "iopub.execute_input": "2023-12-07T19:20:53.203663Z",
     "iopub.status.busy": "2023-12-07T19:20:53.203075Z",
     "iopub.status.idle": "2023-12-07T19:20:53.285298Z",
     "shell.execute_reply": "2023-12-07T19:20:53.284562Z"
    }
   },
   "outputs": [
    {
     "name": "stdout",
     "output_type": "stream",
     "text": [
      "Actual class Coat\n"
     ]
    },
    {
     "data": {
      "text/plain": [
       "Text(0.5, 1.0, 'Pullover')"
      ]
     },
     "execution_count": 14,
     "metadata": {},
     "output_type": "execute_result"
    },
    {
     "data": {
      "image/png": "[encoded data removed]",
      "text/plain": [
       "<Figure size 640x480 with 1 Axes>"
      ]
     },
     "metadata": {},
     "output_type": "display_data"
    }
   ],
   "source": [
    "# Plot misclassified instances\n",
    "instance = 37\n",
    "print('Actual class', class_labels[ytest[instance]])\n",
    "\n",
    "img = Xtest.iloc[instance].to_numpy().reshape(28, 28)\n",
    "plt.imshow(img, cmap='Greys')\n",
    "plt.title(class_labels[ypred[instance]], fontsize=14)"
   ]
  },
  {
   "cell_type": "code",
   "execution_count": 15,
   "id": "add2b72a",
   "metadata": {
    "execution": {
     "iopub.execute_input": "2023-12-07T19:20:53.291135Z",
     "iopub.status.busy": "2023-12-07T19:20:53.291012Z",
     "iopub.status.idle": "2023-12-07T19:20:53.299465Z",
     "shell.execute_reply": "2023-12-07T19:20:53.298082Z"
    }
   },
   "outputs": [
    {
     "data": {
      "text/plain": [
       "array([[104,   0,   0,   1,   0,   0,   3,   0,   0,   0],\n",
       "       [  0,  89,   0,   0,   0,   0,   0,   0,   0,   0],\n",
       "       [  1,   0,  82,   1,   5,   0,  10,   0,   0,   0],\n",
       "       [  0,   0,   0, 108,   1,   0,   3,   0,   0,   0],\n",
       "       [  0,   0,   8,   1,  98,   0,   7,   0,   0,   0],\n",
       "       [  0,   0,   0,   0,   0,  82,   0,   1,   0,   0],\n",
       "       [  2,   0,   1,   0,   2,   0, 101,   0,   0,   0],\n",
       "       [  0,   0,   0,   0,   0,   0,   0, 101,   0,   1],\n",
       "       [  0,   0,   0,   0,   0,   0,   0,   0,  96,   0],\n",
       "       [  0,   0,   0,   0,   0,   0,   0,   1,   0,  90]])"
      ]
     },
     "execution_count": 15,
     "metadata": {},
     "output_type": "execute_result"
    }
   ],
   "source": [
    "# Display confusion matrix\n",
    "metrics.confusion_matrix(ytest, ypred)"
   ]
  }
 ],
 "metadata": {
  "kernelspec": {
   "display_name": "Python 3 - python3",
   "language": "python3",
   "name": "python3"
  },
  "language_info": {
   "codemirror_mode": {
    "name": "ipython",
    "version": 3
   },
   "file_extension": ".py",
   "mimetype": "text/x-python",
   "name": "python",
   "nbconvert_exporter": "python",
   "pygments_lexer": "ipython3",
   "version": "3.10.9"
  }
 },
 "nbformat": 4,
 "nbformat_minor": 5
}
